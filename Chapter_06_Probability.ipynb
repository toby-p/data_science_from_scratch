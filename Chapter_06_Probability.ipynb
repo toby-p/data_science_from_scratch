{
 "cells": [
  {
   "cell_type": "markdown",
   "metadata": {},
   "source": [
    "# Data Science From Scratch - Joel Grus\n",
    "# Chapter 6 - Probability\n",
    "### Dependence / Independence\n",
    "Mathematically, if 2 events $E$ and $F$ are independent then the probability that both happen is the product of their probabilities:\n",
    "\n",
    "> $P(E,F) = P(E)P(F)$\n",
    "\n",
    "### Conditional Probability\n",
    "If probabilities of $E$ and $F$ are not necessarily independent, then we write the conditional probability as:\n",
    "\n",
    "> $P(E | F) = P(E,F) / P(F)$\n",
    "\n",
    "Or rewritten as:\n",
    "\n",
    "> $P(E, F) = P(E|F)P(F)$\n",
    "\n",
    "Which when the 2 are independent, gives:\n",
    "\n",
    "> $P(E|F) = P(E)$\n",
    "\n",
    "Given a family with 2 unknown children, probability of:\n",
    "\n",
    "* Girl, Girl = 1/4\n",
    "* Girl, Boy = 1/4\n",
    "* Boy, Girl = 1/4\n",
    "* Boy, Noy = 1/4\n",
    "\n",
    "What is probability that both children are girls (B), conditional on the event the older child is a girl (G)? Only the first 2 scenarios remain possible, both are equally likely, therefore 50%:\n",
    "\n",
    "> $ P(B|G) = P(B,G)/P(G) = P(B)/P(G) = 1/2 $\n",
    "\n",
    "But the answer is different to the question: what is the probability of the event both children are girls (B) conditional on the event that at least 1 child is a girl (L)?\n",
    "\n",
    "> $ P(B|L) = P(B,L) / P(L) = P(B) / P(L) = 1/3 $\n",
    "\n",
    "Because if you know what at least one child is a girl, then it is twice as likely that the family is 1 boy and 1 girl, than it is 2 girls.\n",
    "\n",
    "This can be checked by generating lots of families:"
   ]
  },
  {
   "cell_type": "code",
   "execution_count": 1,
   "metadata": {},
   "outputs": [
    {
     "name": "stdout",
     "output_type": "stream",
     "text": [
      "P(both | older): 0.4976190476190476\n",
      "P(both | either): 0.3318777292576419\n"
     ]
    }
   ],
   "source": [
    "from numpy import random\n",
    "def random_kid():\n",
    "    return random.choice([\"boy\", \"girl\"])\n",
    "\n",
    "both_girls = 0\n",
    "older_girl = 0\n",
    "either_girl = 0\n",
    "\n",
    "random.seed(0)\n",
    "\n",
    "for _ in range(10000):\n",
    "    younger=random_kid()\n",
    "    older=random_kid()\n",
    "    if older==\"girl\":\n",
    "        older_girl+=1\n",
    "    if older==\"girl\" and younger==\"girl\":\n",
    "        both_girls+=1\n",
    "    if older==\"girl\" or younger==\"girl\":\n",
    "        either_girl+=1\n",
    "\n",
    "        \n",
    "print(\"P(both | older): {}\".format(both_girls/older_girl))\n",
    "print(\"P(both | either): {}\".format(both_girls/either_girl))\n"
   ]
  },
  {
   "cell_type": "markdown",
   "metadata": {},
   "source": [
    "### Bayes' Theorem\n",
    "\n",
    "Allows us to \"reverse\" conditional probabilities.\n",
    "\n",
    "Suppose we need to know the probability of event $E$ conditional on event $F$, but we only know the probability of event $F$ conditional on event $E$.\n",
    "\n",
    "Definition of conditional probability gives us:\n",
    "> $P(E|F) = P(E,F)/P(F) = P(F|E)P(E)/P(F)$\n",
    "\n",
    "The event $F$ can be split into 2 mutually exclusive events:\n",
    "\n",
    "F *and* E:\n",
    "\n",
    "> $P(F,E)$\n",
    "\n",
    "F *not* E:\n",
    "\n",
    "> $P(F\\neg E)$\n",
    "\n",
    "Then the total probability of $F$ is:\n",
    "\n",
    "> $P(F)=P(F,E)+P(F\\neg E)$\n",
    "\n",
    "So that:\n",
    "\n",
    "> $P(E|F) = P(F|E)P(E)/[P(F|E)P(E)+P(F|\\neg E)P(\\neg E)]$\n",
    "\n",
    "#### Example\n",
    "\n",
    "A disease affects 1 in 10000 people. A test for the disease gives the correct result 99% of the time. What does a positive test result mean?\n",
    "\n",
    "> $T$ means \"your test is positive\".\n",
    "\n",
    "> $D$ means \"you have the disease\".\n",
    "\n",
    "Then using Bayes' theorum as stated above, the probability that you have the disease conditional on testing positive is:\n",
    "\n",
    "> $P(D|T) = P(T|D)P(D)/[P(T|D)P(D)+P(T|\\neg D)P(\\neg D)]$\n",
    "\n",
    "We already know the probability that someone with the disease tests positive is 99%:\n",
    "\n",
    "> $P(T|D) = 0.99$\n",
    "\n",
    "The probability someone has the disease is 1/10000:\n",
    "\n",
    ">$P(D) = 0.0001$\n",
    "\n",
    "The probability that someone without the disease tests positive  is 0.01:\n",
    "\n",
    ">$P(T|\\neg D) = 0.01$\n",
    "\n",
    "And the probability that any person doesn't have the disease is 0.9999:\n",
    "\n",
    ">$P(\\neg D) = 0.9999$\n",
    "\n",
    "We can plug these numbers into the theorem:"
   ]
  },
  {
   "cell_type": "code",
   "execution_count": 2,
   "metadata": {},
   "outputs": [
    {
     "data": {
      "text/plain": [
       "0.00980392156862745"
      ]
     },
     "execution_count": 2,
     "metadata": {},
     "output_type": "execute_result"
    }
   ],
   "source": [
    "def bayes():\n",
    "    \n",
    "    prob_T_on_D = 0.99\n",
    "    prob_D = 0.0001\n",
    "    prob_T_not_D = 0.01\n",
    "    prob_not_D = 0.9999\n",
    "    prob_D_on_T = prob_T_on_D * prob_D / (prob_T_on_D * prob_D + prob_T_not_D*prob_not_D)\n",
    "    \n",
    "    return prob_D_on_T\n",
    "\n",
    "bayes()"
   ]
  },
  {
   "cell_type": "markdown",
   "metadata": {},
   "source": [
    "This result means that the probability of having the disease depending on testing positive is 0.98% - less than 1%!!"
   ]
  },
  {
   "cell_type": "markdown",
   "metadata": {},
   "source": [
    "### Random Variables\n",
    "A *random variable* is a variable whose possible values have an associated probability distribution. For example a coin flip has a value of heads at probability 0.5 and a value of tails at probability 0.5.\n",
    "\n",
    "Another example, going back to the earlier example of girls being born in 2 siblings:\n",
    "\n",
    "If 2 children are born the possible number of girls $X$ has probability:\n",
    "\n",
    "> No girls 0.25\n",
    "\n",
    "> 1 girl 0.5\n",
    "\n",
    "> 2 girls 0.25\n",
    "\n",
    "If 2 children are born and at least 1 is known to be a girl, the number of girls $Y$ has probability:\n",
    "\n",
    "> 1 girl 0.66\n",
    "\n",
    "> 2 girls 0.33\n",
    "\n",
    "### Continuous Distributions\n"
   ]
  },
  {
   "cell_type": "markdown",
   "metadata": {},
   "source": [
    "A coin flip has a *discrete distrubution* of probabilities - it is *either* 0 or 1. But often we want to model probabilities over a *continuum* of outcomes, for example a uniform distribution puts the same probability on all numbers between 0 and 1. Because there are infinity such values, the weight assigned to any individual point is 0. For this reason, probability is represented as a *probability density function* (pdf) which allows you to calculate the probability of seeing a value at a given interval on the scale.\n",
    "\n",
    "The density function for the uniform distribution is:"
   ]
  },
  {
   "cell_type": "code",
   "execution_count": 3,
   "metadata": {},
   "outputs": [],
   "source": [
    "def uniform_pdf(x):\n",
    "    return 1 if x>=0 and x<1 else 0"
   ]
  },
  {
   "cell_type": "markdown",
   "metadata": {},
   "source": [
    "*Cumulative distribution function*:"
   ]
  },
  {
   "cell_type": "code",
   "execution_count": 4,
   "metadata": {},
   "outputs": [],
   "source": [
    "def uniform_pdf(x):\n",
    "    \"Returns probability that a uniform variable is <= x\"\n",
    "    if x<0: return 0\n",
    "    elif x<1: return x\n",
    "    else: return 1"
   ]
  },
  {
   "cell_type": "markdown",
   "metadata": {},
   "source": [
    "### Normal Distribution\n",
    "Classic bell-shaped distribution completely determined by mean (mu - $\\mu$) and standard deviation (sigma - $\\sigma$).\n",
    "\n",
    "The distribution function can be implemented as:"
   ]
  },
  {
   "cell_type": "code",
   "execution_count": 5,
   "metadata": {},
   "outputs": [],
   "source": [
    "import math\n",
    "def normal_pdf(x, mu=0, sigma=1):\n",
    "    sqrt_two_pi = math.sqrt(2 * math.pi)\n",
    "    return (math.exp(-(x-mu) ** 2 / 2 / sigma ** 2) / (sqrt_two_pi * sigma))"
   ]
  },
  {
   "cell_type": "markdown",
   "metadata": {},
   "source": [
    "Implemented and plotted as:"
   ]
  },
  {
   "cell_type": "code",
   "execution_count": 6,
   "metadata": {},
   "outputs": [
    {
     "data": {
      "image/png": "[encoded data removed]",
      "text/plain": [
       "<matplotlib.figure.Figure at 0x1076ca438>"
      ]
     },
     "metadata": {},
     "output_type": "display_data"
    }
   ],
   "source": [
    "import matplotlib.pyplot as plt\n",
    "%matplotlib inline\n",
    "\n",
    "xs = [x/10.0 for x in range(-50, 50)]\n",
    "plt.plot(xs, [normal_pdf(x, sigma=1) for x in xs], \"-\", label = \"mu=0, sigma=1\")\n",
    "plt.plot(xs, [normal_pdf(x, sigma=2) for x in xs], \"--\", label = \"mu=0, sigma=2\")\n",
    "plt.plot(xs, [normal_pdf(x, sigma=0.5) for x in xs], \":\", label = \"mu=0, sigma=0.5\")\n",
    "plt.plot(xs, [normal_pdf(x, mu=-1) for x in xs], \"-.\", label = \"mu=-1, sigma=1\")\n",
    "plt.legend()\n",
    "plt.title(\"Various normal distributions\")\n",
    "plt.show()"
   ]
  },
  {
   "cell_type": "markdown",
   "metadata": {},
   "source": [
    "When $\\mu$=0 and $\\sigma$=1 this is called the *standard normal distribution*.\n",
    "\n",
    "Now plotted as a *cumulative distribution function*:"
   ]
  },
  {
   "cell_type": "code",
   "execution_count": 7,
   "metadata": {},
   "outputs": [
    {
     "data": {
      "image/png": "[encoded data removed]",
      "text/plain": [
       "<matplotlib.figure.Figure at 0x108671e10>"
      ]
     },
     "metadata": {},
     "output_type": "display_data"
    }
   ],
   "source": [
    "def normal_cdf(x, mu=0, sigma=1):\n",
    "    # Using Python's math.erf\n",
    "    return (1 + math.erf((x - mu) / math.sqrt(2) / sigma)) / 2\n",
    "\n",
    "xs = [x/10.0 for x in range(-50, 50)]\n",
    "plt.plot(xs, [normal_cdf(x, sigma=1) for x in xs], \"-\", label = \"mu=0, sigma=1\")\n",
    "plt.plot(xs, [normal_cdf(x, sigma=2) for x in xs], \"--\", label = \"mu=0, sigma=2\")\n",
    "plt.plot(xs, [normal_cdf(x, sigma=0.5) for x in xs], \":\", label = \"mu=0, sigma=0.5\")\n",
    "plt.plot(xs, [normal_cdf(x, mu=-1) for x in xs], \"-.\", label = \"mu=-1, sigma=1\")\n",
    "plt.legend()\n",
    "plt.title(\"Various normal distributions\")\n",
    "plt.show()"
   ]
  },
  {
   "cell_type": "markdown",
   "metadata": {},
   "source": [
    "If we want to invert the cdf to find the value corresponding to a given probability this can be done using binary search (no \"simple\" way of doing this):"
   ]
  },
  {
   "cell_type": "code",
   "execution_count": 8,
   "metadata": {},
   "outputs": [
    {
     "data": {
      "text/plain": [
       "['p:0.0, inverse cdf:-8.75',\n",
       " 'p:0.1, inverse cdf:-1.2815570831298828',\n",
       " 'p:0.2, inverse cdf:-0.8416271209716797',\n",
       " 'p:0.3, inverse cdf:-0.5243968963623047',\n",
       " 'p:0.4, inverse cdf:-0.2533435821533203',\n",
       " 'p:0.5, inverse cdf:0.0',\n",
       " 'p:0.6, inverse cdf:0.2533435821533203',\n",
       " 'p:0.7, inverse cdf:0.5243968963623047',\n",
       " 'p:0.8, inverse cdf:0.8416271209716797',\n",
       " 'p:0.9, inverse cdf:1.2815570831298828']"
      ]
     },
     "execution_count": 8,
     "metadata": {},
     "output_type": "execute_result"
    }
   ],
   "source": [
    "def inverse_normal_cdf(p, mu=0, sigma=1, tolerance=0.00001):\n",
    "    \"\"\"Find approximate inverse using binary search\"\"\"\n",
    "    \n",
    "    # If not standard, compute standard and rescale.\n",
    "    if mu != 0 or sigma != 1:\n",
    "        return mu + sigma * inverse_normal_csf(p, tolerance = tolerance)\n",
    "    \n",
    "    low_z, low_p = -10.0, 0\n",
    "    hi_z, hi_p = 10.0, 1\n",
    "    \n",
    "    while hi_z - low_z > tolerance:\n",
    "        mid_z = (low_z + hi_z) / 2\n",
    "        mid_p = normal_cdf(mid_z)\n",
    "        \n",
    "        if mid_p < p:\n",
    "            # Midpoint too low, search above it.\n",
    "            low_z, low_p = mid_z, mid_p\n",
    "        \n",
    "        elif mid_p > p:\n",
    "            # Midpoint too high, search below it.\n",
    "            hi_z, hi_p = mid_z, mid_p\n",
    "        \n",
    "        else:\n",
    "            break\n",
    "    \n",
    "    return mid_z\n",
    "\n",
    "[\"p:{}, inverse cdf:{}\".format(p/10.0,inverse_normal_cdf(p/10.0)) for p in range(0, 10)]"
   ]
  },
  {
   "cell_type": "markdown",
   "metadata": {},
   "source": [
    "### Central Limit Theorem\n",
    "CLT is what makes normal distribution so useful: take enough sample populations from a random variable and you will find that the samples are themselves approximately normally distributed.\n",
    "\n",
    "#### Example (not from the book): Say you wanted to study height.\n",
    "\n",
    "You go to a city and randomly take samples of 10 people's height in the street, many times over. Each sample itself wouldn't necessarily be normally distributed (it may be, but the sample size is probably too low). However if you took thousands of samples of 10 people's height, then you would find that the *average* heights of each 10 person sample would start to look normally distributed. We can replicate this programatically."
   ]
  },
  {
   "cell_type": "code",
   "execution_count": 9,
   "metadata": {},
   "outputs": [
    {
     "data": {
      "image/png": "[encoded data removed]",
      "text/plain": [
       "<matplotlib.figure.Figure at 0x1076a39e8>"
      ]
     },
     "metadata": {},
     "output_type": "display_data"
    }
   ],
   "source": [
    "def persons_height():\n",
    "    \"\"\"Randomly generate the height of 1 'person', from a minimum of 1m to maximum of 2.5m\"\"\"\n",
    "    return 1 + (random.rand() * 1.5)\n",
    "\n",
    "def sample_10():\n",
    "    \"\"\"Returns average height of 10 'people' randomly sampled.\"\"\"\n",
    "    heights = 0\n",
    "    for x in range(10):\n",
    "        heights += persons_height()\n",
    "    \n",
    "    return heights/10.0\n",
    "\n",
    "# Now randomly sample 10000 populations of 10 'people'.\n",
    "samples_10000 = [sample_10() for s in range(10000)]\n",
    "\n",
    "# Now 'bucket' the people at intervals of 1cm and plot.\n",
    "# It should resemble the cumulative density function plotted earlier.\n",
    "buckets = [cm/100 for cm in range(150,250)]\n",
    "av_height_counts = []\n",
    "for height in buckets:\n",
    "    samples_below_height = len([s for s in samples_10000 if s < height])\n",
    "    av_height_counts.append(samples_below_height)\n",
    "plt.scatter(x = buckets, y = av_height_counts)\n",
    "plt.show()"
   ]
  },
  {
   "cell_type": "markdown",
   "metadata": {},
   "source": [
    "#### From the book:\n",
    "If $x_{1} ... x_{n}$ are random variables with mean $\\mu$ and standard deviation $\\sigma$, and $n$ is large then:\n",
    "\n",
    "\\begin{equation*}\n",
    "\\frac{1}{n}(x_{1} + \\cdots + x_{n})\n",
    "\\end{equation*}\n",
    "\n",
    "is approximately normally distributed with mean $\\mu$ and standard deviation $\\sigma$/$\\sqrt n$.\n",
    "\n",
    "Or alternatively:\n",
    "\n",
    "\\begin{equation*}\n",
    "\\frac{(x_{1} + \\cdots + x_{n}) - \\mu n}{\\sigma \\sqrt n}\n",
    "\\end{equation*}\n",
    "\n",
    "is approximately normally distributed with mean 0 and std. dev. 1.\n",
    "\n",
    "Demonstrated with Bernoulli random variables:"
   ]
  },
  {
   "cell_type": "code",
   "execution_count": 10,
   "metadata": {},
   "outputs": [
    {
     "data": {
      "image/png": "[encoded data removed]",
      "text/plain": [
       "<matplotlib.figure.Figure at 0x1088416a0>"
      ]
     },
     "metadata": {},
     "output_type": "display_data"
    }
   ],
   "source": [
    "from collections import Counter\n",
    "\n",
    "def bernoulli_trial(p):\n",
    "    \"\"\"Returns 1 with probability p, and 0 with probability 1 - p\"\"\"\n",
    "    return 1 if random.random() < p else 0\n",
    "\n",
    "def binomial(n, p):\n",
    "    \"\"\"Runs a Bernoulli trial on probability p n times.\"\"\"\n",
    "    return sum(bernoulli_trial(p) for _ in range(n))\n",
    "    \n",
    "def make_hist(p, n, num_points):\n",
    "    \n",
    "    data = [binomial(n, p) for _ in range(num_points)]\n",
    "    \n",
    "    # Bar chart to show actual binomial samples.\n",
    "    histogram = Counter(data)\n",
    "    plt.bar([x - 0.4 for x in histogram.keys()],\n",
    "           [v / num_points for v in histogram.values()],\n",
    "           0.8,\n",
    "           color=\"0.75\")\n",
    "    mu = p * n\n",
    "    sigma = math.sqrt(n * p * (1 - p))\n",
    "    \n",
    "    # Line chart to show normal approximation.\n",
    "    xs = range(min(data), max(data)+1)\n",
    "    ys = [normal_cdf(i + 0.5, mu, sigma) - normal_cdf(i - 0.5, mu, sigma) for i in xs]\n",
    "    plt.plot(xs, ys)\n",
    "    \n",
    "    plt.title(\"Binomial Distribution vs. Normal Distribution\")\n",
    "    plt.show()\n",
    "    \n",
    "make_hist(0.75, 100, 10000)"
   ]
  },
  {
   "cell_type": "markdown",
   "metadata": {},
   "source": [
    "Therefore if you want to know probability that a coin turns up 60 heads in 100 flips you can estimate it by calculating if a Normal Distribution of $\\mu = 50, \\sigma = 5 $ is greater than 60; as an easier alternative to computing the Binomial(100, 0.5) cdf.\n",
    "\n",
    "#### Further reading\n",
    "* <a href=\"https://docs.scipy.org/doc/scipy/reference/stats.html\" target=\"_blank\">Scipy Stats</a>.\n",
    "* <a href=\"http://www.dartmouth.edu/~chance/teaching_aids/books_articles/probability_book/amsbook.mac.pdf\" target=\"_blank\">Introduction to probability</a>."
   ]
  }
 ],
 "metadata": {
  "kernelspec": {
   "display_name": "Python 3",
   "language": "python",
   "name": "python3"
  },
  "language_info": {
   "codemirror_mode": {
    "name": "ipython",
    "version": 3
   },
   "file_extension": ".py",
   "mimetype": "text/x-python",
   "name": "python",
   "nbconvert_exporter": "python",
   "pygments_lexer": "ipython3",
   "version": "3.6.2"
  }
 },
 "nbformat": 4,
 "nbformat_minor": 2
}

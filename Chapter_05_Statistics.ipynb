{
 "cells": [
  {
   "cell_type": "markdown",
   "metadata": {},
   "source": [
    "# Data Science From Scratch - Joel Grus\n",
    "# Chapter 5 - Statistics\n",
    "### Decribing a single set of data"
   ]
  },
  {
   "cell_type": "code",
   "execution_count": 1,
   "metadata": {},
   "outputs": [],
   "source": [
    "# Simple dataset\n",
    "num_friends = [100,49,41,40,25,21,21,19,19,18,18,16,15,15,\n",
    "               15,15,14,14,13,13,13,13,12,12,11,10,10,10,\n",
    "               10,10,10,10,10,10,10,10,10,10,10,10,9,9,9,\n",
    "               9,9,9,9,9,9,9,9,9,9,9,9,9,9,9,8,8,8,8,8,8,\n",
    "               8,8,8,8,8,8,8,7,7,7,7,7,7,7,7,7,7,7,7,7,7,7,\n",
    "               6,6,6,6,6,6,6,6,6,6,6,6,6,6,6,6,6,6,6,6,6,6,\n",
    "               5,5,5,5,5,5,5,5,5,5,5,5,5,5,5,5,5,4,4,4,4,4,\n",
    "               4,4,4,4,4,4,4,4,4,4,4,4,4,4,4,3,3,3,3,3,3,3,\n",
    "               3,3,3,3,3,3,3,3,3,3,3,3,3,2,2,2,2,2,2,2,2,2,\n",
    "               2,2,2,2,2,2,2,2,1,1,1,1,1,1,1,1,1,1,1,1,1,1,\n",
    "               1,1,1,1,1,1,1,1]\n"
   ]
  },
  {
   "cell_type": "markdown",
   "metadata": {},
   "source": [
    "#### Simple histogram"
   ]
  },
  {
   "cell_type": "code",
   "execution_count": 2,
   "metadata": {},
   "outputs": [
    {
     "data": {
      "image/png": "[encoded data removed]",
      "text/plain": [
       "<matplotlib.figure.Figure at 0x1078ca978>"
      ]
     },
     "metadata": {},
     "output_type": "display_data"
    }
   ],
   "source": [
    "import matplotlib.pyplot as plt\n",
    "from collections import Counter\n",
    "\n",
    "friend_counts = Counter(num_friends)\n",
    "xs = range(101)\n",
    "ys = [friend_counts[x] for x in xs]\n",
    "\n",
    "plt.figure(figsize = (10,6))\n",
    "plt.bar(xs, ys)\n",
    "plt.axis([0, 101, 0 , 25])\n",
    "plt.title(\"Histogram of friend counts\")\n",
    "plt.xlabel(\"Number of friends\")\n",
    "plt.ylabel(\"Number of people\")\n",
    "plt.show()"
   ]
  },
  {
   "cell_type": "code",
   "execution_count": 3,
   "metadata": {},
   "outputs": [
    {
     "data": {
      "text/plain": [
       "204"
      ]
     },
     "execution_count": 3,
     "metadata": {},
     "output_type": "execute_result"
    }
   ],
   "source": [
    "# Number of data points\n",
    "num_points = len(num_friends)\n",
    "num_points"
   ]
  },
  {
   "cell_type": "code",
   "execution_count": 4,
   "metadata": {},
   "outputs": [
    {
     "data": {
      "text/plain": [
       "100"
      ]
     },
     "execution_count": 4,
     "metadata": {},
     "output_type": "execute_result"
    }
   ],
   "source": [
    "# Largest value\n",
    "largest_value = max(num_friends)\n",
    "largest_value"
   ]
  },
  {
   "cell_type": "code",
   "execution_count": 5,
   "metadata": {},
   "outputs": [
    {
     "data": {
      "text/plain": [
       "1"
      ]
     },
     "execution_count": 5,
     "metadata": {},
     "output_type": "execute_result"
    }
   ],
   "source": [
    "# Smallest value\n",
    "smallest_value = min(num_friends)\n",
    "smallest_value"
   ]
  },
  {
   "cell_type": "code",
   "execution_count": 6,
   "metadata": {},
   "outputs": [
    {
     "data": {
      "text/plain": [
       "1"
      ]
     },
     "execution_count": 6,
     "metadata": {},
     "output_type": "execute_result"
    }
   ],
   "source": [
    "# Another way\n",
    "sorted_values = sorted(num_friends)\n",
    "sorted_values[0] # smallest value"
   ]
  },
  {
   "cell_type": "code",
   "execution_count": 7,
   "metadata": {},
   "outputs": [
    {
     "data": {
      "text/plain": [
       "100"
      ]
     },
     "execution_count": 7,
     "metadata": {},
     "output_type": "execute_result"
    }
   ],
   "source": [
    "sorted_values[-1] # largest value"
   ]
  },
  {
   "cell_type": "code",
   "execution_count": 8,
   "metadata": {},
   "outputs": [
    {
     "data": {
      "text/plain": [
       "49"
      ]
     },
     "execution_count": 8,
     "metadata": {},
     "output_type": "execute_result"
    }
   ],
   "source": [
    "sorted_values[-2] # second largest value, etc"
   ]
  },
  {
   "cell_type": "markdown",
   "metadata": {},
   "source": [
    "### Central Tendencies"
   ]
  },
  {
   "cell_type": "markdown",
   "metadata": {},
   "source": [
    "#### Mean"
   ]
  },
  {
   "cell_type": "code",
   "execution_count": 9,
   "metadata": {},
   "outputs": [
    {
     "data": {
      "text/plain": [
       "7.333333333333333"
      ]
     },
     "execution_count": 9,
     "metadata": {},
     "output_type": "execute_result"
    }
   ],
   "source": [
    "def mean(x):\n",
    "    return sum(x) / len(x)\n",
    "\n",
    "mean(num_friends)"
   ]
  },
  {
   "cell_type": "markdown",
   "metadata": {},
   "source": [
    "#### Median"
   ]
  },
  {
   "cell_type": "code",
   "execution_count": 10,
   "metadata": {},
   "outputs": [
    {
     "data": {
      "text/plain": [
       "6.0"
      ]
     },
     "execution_count": 10,
     "metadata": {},
     "output_type": "execute_result"
    }
   ],
   "source": [
    "def median(v):\n",
    "    n = len(v)\n",
    "    sorted_v = sorted(v)\n",
    "    mid_point = n // 2\n",
    "\n",
    "    if n % 2 == 1:\n",
    "        # Odd, so return mid-point\n",
    "        return sorted_v[mid_point]\n",
    "    else:\n",
    "        lo = mid_point - 1\n",
    "        hi = mid_point\n",
    "        return (sorted_v[lo] + sorted_v[hi]) / 2\n",
    "\n",
    "median(num_friends)"
   ]
  },
  {
   "cell_type": "markdown",
   "metadata": {},
   "source": [
    "#### Quantile"
   ]
  },
  {
   "cell_type": "code",
   "execution_count": 11,
   "metadata": {},
   "outputs": [
    {
     "name": "stdout",
     "output_type": "stream",
     "text": [
      "0.1 = 1\n",
      "0.25 = 3\n",
      "0.75 = 9\n",
      "0.9 = 13\n"
     ]
    }
   ],
   "source": [
    "def quantile(x, p):\n",
    "    \"\"\"Returns the pth-percentile value in x.\"\"\"\n",
    "    p_index = int(p * len(x))\n",
    "    return sorted(x)[p_index]\n",
    "\n",
    "for percentile in [.1, .25, .75, .9]:\n",
    "    print(percentile, \"=\", quantile(num_friends, percentile))"
   ]
  },
  {
   "cell_type": "markdown",
   "metadata": {},
   "source": [
    "#### Mode"
   ]
  },
  {
   "cell_type": "code",
   "execution_count": 12,
   "metadata": {},
   "outputs": [
    {
     "data": {
      "text/plain": [
       "[6, 1]"
      ]
     },
     "execution_count": 12,
     "metadata": {},
     "output_type": "execute_result"
    }
   ],
   "source": [
    "def mode(x):\n",
    "    \"\"\"Returns a list a may be more than one mode.\"\"\"\n",
    "    counts = Counter(x)\n",
    "    max_count = max(counts.values())\n",
    "    return [x_i for x_i, count in counts.items() if count == max_count]\n",
    "\n",
    "mode(num_friends)"
   ]
  },
  {
   "cell_type": "markdown",
   "metadata": {},
   "source": [
    "### Dispersion\n",
    "How spread out data is."
   ]
  },
  {
   "cell_type": "markdown",
   "metadata": {},
   "source": [
    "#### Simple range"
   ]
  },
  {
   "cell_type": "code",
   "execution_count": 13,
   "metadata": {},
   "outputs": [
    {
     "data": {
      "text/plain": [
       "99"
      ]
     },
     "execution_count": 13,
     "metadata": {},
     "output_type": "execute_result"
    }
   ],
   "source": [
    "def data_range(x):\n",
    "    return max(x) - min(x)\n",
    "\n",
    "data_range(num_friends)"
   ]
  },
  {
   "cell_type": "markdown",
   "metadata": {},
   "source": [
    "#### Variance"
   ]
  },
  {
   "cell_type": "code",
   "execution_count": 14,
   "metadata": {},
   "outputs": [
    {
     "data": {
      "text/plain": [
       "81.54351395730716"
      ]
     },
     "execution_count": 14,
     "metadata": {},
     "output_type": "execute_result"
    }
   ],
   "source": [
    "def de_mean(x):\n",
    "    \"\"\"Translate x by subtracting its mean, so result has mean 0.\"\"\"\n",
    "    x_bar = mean(x)\n",
    "    return [x_i - x_bar for x_i in x]\n",
    "\n",
    "from chapter_04 import sum_of_squares\n",
    "\n",
    "def variance(x):\n",
    "    \"\"\"Assumes x has at least 2 elements.\"\"\"\n",
    "    n = len(x)\n",
    "    deviations = de_mean(x)\n",
    "    return sum_of_squares(deviations) / (n - 1)\n",
    "\n",
    "variance(num_friends)"
   ]
  },
  {
   "cell_type": "markdown",
   "metadata": {},
   "source": [
    "#### Standard Deviation"
   ]
  },
  {
   "cell_type": "code",
   "execution_count": 15,
   "metadata": {},
   "outputs": [
    {
     "data": {
      "text/plain": [
       "9.03014473623248"
      ]
     },
     "execution_count": 15,
     "metadata": {},
     "output_type": "execute_result"
    }
   ],
   "source": [
    "import math\n",
    "\n",
    "def standard_deviation(x):\n",
    "    return math.sqrt(variance(x))\n",
    "\n",
    "standard_deviation(num_friends)"
   ]
  },
  {
   "cell_type": "markdown",
   "metadata": {},
   "source": [
    "#### Interquartile range"
   ]
  },
  {
   "cell_type": "code",
   "execution_count": 16,
   "metadata": {},
   "outputs": [
    {
     "data": {
      "text/plain": [
       "6"
      ]
     },
     "execution_count": 16,
     "metadata": {},
     "output_type": "execute_result"
    }
   ],
   "source": [
    "def interquartile_range(x):\n",
    "    return quantile(x, 0.75) - quantile(x, 0.25)\n",
    "\n",
    "interquartile_range(num_friends)"
   ]
  },
  {
   "cell_type": "markdown",
   "metadata": {},
   "source": [
    "### Correlation\n",
    "#### Covariance"
   ]
  },
  {
   "cell_type": "code",
   "execution_count": 17,
   "metadata": {},
   "outputs": [],
   "source": [
    "# Secondary vector of data to compare with num_friends\n",
    "daily_minutes = [1,68.77,51.25,52.08,38.36,44.54,57.13,51.4,41.42,31.22,34.76,\n",
    "                 54.01,38.79,47.59,49.1,27.66,41.03,36.73,48.65,28.12,46.62,\n",
    "                 35.57,32.98,35,26.07,23.77,39.73,40.57,31.65,31.21,36.32,\n",
    "                 20.45,21.93,26.02,27.34,23.49,46.94,30.5,33.8,24.23,21.4,27.94,\n",
    "                 32.24,40.57,25.07,19.42,22.39,18.42,46.96,23.72,26.41,26.97,\n",
    "                 36.76,40.32,35.02,29.47,30.2,31,38.11,38.18,36.31,21.03,30.86,\n",
    "                 36.07,28.66,29.08,37.28,15.28,24.17,22.31,30.17,25.53,19.85,\n",
    "                 35.37,44.6,17.23,13.47,26.33,35.02,32.09,24.81,19.33,28.77,24.26,\n",
    "                 31.98,25.73,24.86,16.28,34.51,15.23,39.72,40.8,26.06,35.76,34.76,\n",
    "                 16.13,44.04,18.03,19.65,32.62,35.59,39.43,14.18,35.24,40.13,\n",
    "                 41.82,35.45,36.07,43.67,24.61,20.9,21.9,18.79,27.61,27.21,26.61,\n",
    "                 29.77,20.59,27.53,13.82,33.2,25,33.1,36.65,18.63,14.87,22.2,\n",
    "                 36.81,25.53,24.62,26.25,18.21,28.08,19.42,29.79,32.8,35.99,28.32,\n",
    "                 27.79,35.88,29.06,36.28,14.1,36.63,37.49,26.9,18.58,38.48,24.48,\n",
    "                 18.95,33.55,14.24,29.04,32.51,25.63,22.22,19,32.73,15.16,13.9,\n",
    "                 27.2,32.01,29.27,33,13.74,20.42,27.32,18.23,35.35,28.48,9.08,\n",
    "                 24.62,20.12,35.26,19.92,31.02,16.49,12.16,30.7,31.22,34.65,13.13,\n",
    "                 27.51,33.2,31.57,14.1,33.42,17.44,10.12,24.42,9.82,23.39,30.93,\n",
    "                 15.03,21.67,31.09,33.29,22.61,26.89,23.48,8.38,27.81,32.35,23.84]"
   ]
  },
  {
   "cell_type": "code",
   "execution_count": 18,
   "metadata": {},
   "outputs": [
    {
     "data": {
      "text/plain": [
       "22.425435139573064"
      ]
     },
     "execution_count": 18,
     "metadata": {},
     "output_type": "execute_result"
    }
   ],
   "source": [
    "from chapter_04 import dot\n",
    "\n",
    "def covariance(x, y):\n",
    "    n = len(x) # Same a len(y) as both are features of same dataset.\n",
    "    return dot(de_mean(x), de_mean(y)) / (n - 1)\n",
    "\n",
    "covariance(num_friends, daily_minutes)"
   ]
  },
  {
   "cell_type": "markdown",
   "metadata": {},
   "source": [
    "#### Correlation\n",
    "Units of *covariance* can be hard to interpret because:\n",
    "* It is one arbitrary feature multiplied by another (in this case friends * minutes) - there is not necessearily an intuitive concept of what these units are.\n",
    "* Applying a scalar to one of the features would mean that the relationship would effectively be the same, but the value for covariance would increase/decrease in proportion to the scalar.\n",
    "\n",
    "Hence it is more effective to use *correlation* - which is unitless and always lies between -1 (perfect negative correlation) and 1 (perfect positive correlation)."
   ]
  },
  {
   "cell_type": "code",
   "execution_count": 19,
   "metadata": {},
   "outputs": [
    {
     "data": {
      "text/plain": [
       "0.24736957366478218"
      ]
     },
     "execution_count": 19,
     "metadata": {},
     "output_type": "execute_result"
    }
   ],
   "source": [
    "def correlation(x, y):\n",
    "    stdev_x = standard_deviation(x)\n",
    "    stdev_y = standard_deviation(y)\n",
    "    if stdev_x > 0 and stdev_y > 0:\n",
    "        return covariance(x, y) / stdev_x / stdev_y\n",
    "    else:\n",
    "        return 0 # Correlation is zero if no variation.\n",
    "\n",
    "correlation(num_friends, daily_minutes)"
   ]
  },
  {
   "cell_type": "markdown",
   "metadata": {},
   "source": [
    "#### Checking for & removing Outliers"
   ]
  },
  {
   "cell_type": "code",
   "execution_count": 20,
   "metadata": {},
   "outputs": [
    {
     "data": {
      "image/png": "[encoded data removed]",
      "text/plain": [
       "<matplotlib.figure.Figure at 0x10851ef98>"
      ]
     },
     "metadata": {},
     "output_type": "display_data"
    }
   ],
   "source": [
    "# Plotting the correlation we see 1 extreme outlier in bottom right corner.\n",
    "plt.figure(figsize = (10, 6))\n",
    "plt.scatter(x = num_friends, y = daily_minutes)\n",
    "plt.xlabel(\"Number of Friends\")\n",
    "plt.ylabel(\"Daily minutes\")\n",
    "plt.title(\"Correlation & Outlier\")\n",
    "plt.show()"
   ]
  },
  {
   "cell_type": "code",
   "execution_count": 21,
   "metadata": {},
   "outputs": [
    {
     "data": {
      "text/plain": [
       "0.5736792115665573"
      ]
     },
     "execution_count": 21,
     "metadata": {},
     "output_type": "execute_result"
    }
   ],
   "source": [
    "# We can remove outlier\n",
    "outlier = num_friends.index(100) # Index of outlier\n",
    "\n",
    "num_friends_good = [x for i, x in enumerate(num_friends)\n",
    "                   if i != outlier]\n",
    "\n",
    "daily_minutes_good = [x for i, x in enumerate(daily_minutes)\n",
    "                     if i != outlier]\n",
    "\n",
    "correlation(num_friends_good, daily_minutes_good)"
   ]
  },
  {
   "cell_type": "code",
   "execution_count": 22,
   "metadata": {},
   "outputs": [
    {
     "data": {
      "image/png": "[encoded data removed]",
      "text/plain": [
       "<matplotlib.figure.Figure at 0x108a6ff28>"
      ]
     },
     "metadata": {},
     "output_type": "display_data"
    }
   ],
   "source": [
    "# Much stronger correlation without the outlier.\n",
    "plt.figure(figsize = (10, 6))\n",
    "plt.scatter(x = num_friends_good, y = daily_minutes_good)\n",
    "plt.xlabel(\"Number of Friends\")\n",
    "plt.ylabel(\"Daily minutes\")\n",
    "plt.title(\"Correlation without Outlier\")\n",
    "plt.show()"
   ]
  },
  {
   "cell_type": "markdown",
   "metadata": {},
   "source": [
    "### Simpson's Paradox (example)\n",
    "Sometimes apparent correlations can be obscuring deeper truths within the data, the results of which can seem paradoxical. For example, imagine the data was grouped between East Coast and West Coast, showing the average number of friends for those in each bucket:\n",
    "\n",
    "|Coast|Number Members|Average Number Friends|\n",
    "|-|-|-|\n",
    "|West|101|8.2|\n",
    "|East|103|6.5|\n",
    "\n",
    "On first appearance it seems that the 'truth' of the data is that West Coast people have more friends on average.\n",
    "\n",
    "However you then group the data further, by whether or not they have a PhD:\n",
    "\n",
    "|Coast|Degree|Number Members|Average Number Friends|\n",
    "|-|-|-|-|\n",
    "|West|PhD|35|3.1|\n",
    "|East|PhD|70|3.2|\n",
    "|West|No PhD|66|10.9|\n",
    "|East|No PhD|33|13.4|\n",
    "\n",
    "In this breakdown it looks like the opposite result has appeared - now in both subcategories of 'Phd' and 'No PhD', East Coast people have a higher number of friends, which seems to completely contradict the original result.\n",
    "\n",
    "The explanation here is that the bucket of East Coast people is heavily skewed towards having a PhD, which has a much lower average number of friends for both East and West. So even though it slightly beats out West in the both buckets, because West has a much higher proportion of its people in the high friend count 'No PhD' bucket, its overall average is higher.\n",
    "\n",
    "##### The lesson is that you have to know your data, and even if you think there is an obvious result in the first place, you need to make sure you check for any potential confounding variables.\n",
    "\n",
    "### Other Correlational Caveats\n",
    "A correlation of 0 indicates no linear relationship between variables, but doesn't necessarily mean there is no relationship. For example:"
   ]
  },
  {
   "cell_type": "code",
   "execution_count": 23,
   "metadata": {},
   "outputs": [
    {
     "data": {
      "text/plain": [
       "0.0"
      ]
     },
     "execution_count": 23,
     "metadata": {},
     "output_type": "execute_result"
    }
   ],
   "source": [
    "x = [-2, -1, 0, 1, 2]\n",
    "y = [2, 1, 0, 1, 2]\n",
    "correlation(x, y)"
   ]
  },
  {
   "cell_type": "markdown",
   "metadata": {},
   "source": [
    "##### The correlation is 0, but there is a clear relationship (y is the absolute value of x).\n",
    "\n",
    "In addition the correlation may be perfect, but it tells you nothing about the how large the relationship is, for example:"
   ]
  },
  {
   "cell_type": "code",
   "execution_count": 24,
   "metadata": {},
   "outputs": [
    {
     "data": {
      "text/plain": [
       "0.8340576562281805"
      ]
     },
     "execution_count": 24,
     "metadata": {},
     "output_type": "execute_result"
    }
   ],
   "source": [
    "x_1 = [-2, 1, 0, 1, 2]\n",
    "y_1 = [99.98, 99.99, 100, 100.01, 100.02]\n",
    "correlation(x_1, y_1)"
   ]
  },
  {
   "cell_type": "markdown",
   "metadata": {},
   "source": [
    "### Correlation != Causation\n",
    "Remember that correlation does not imply causation by itself. Considering the relationship explored above (number of friends & daily minutes spent on site), it could be:\n",
    "\n",
    "* Those with more friends see more content appear, which causes them to spend longer on site.\n",
    "* Those who spend longer on the site get into more discussions with people, which causes them to forge more friendships.\n",
    "* Those who are most passionate about the site's subject matter are both more likely to spend more time on the site, and more likely to interact with like-minded people.\n",
    "\n",
    "One way to feel more confident about causality is to conduct randomised tests; e.g. randomly select 2 groups of users with similar demographics, and show 1 group only a fraction of their friends' content. If that groups number of minutes on the site decreases in a significant way, then you have more confidence about number of friends causing more time on the site."
   ]
  }
 ],
 "metadata": {
  "kernelspec": {
   "display_name": "Python 3",
   "language": "python",
   "name": "python3"
  },
  "language_info": {
   "codemirror_mode": {
    "name": "ipython",
    "version": 3
   },
   "file_extension": ".py",
   "mimetype": "text/x-python",
   "name": "python",
   "nbconvert_exporter": "python",
   "pygments_lexer": "ipython3",
   "version": "3.6.2"
  }
 },
 "nbformat": 4,
 "nbformat_minor": 2
}
